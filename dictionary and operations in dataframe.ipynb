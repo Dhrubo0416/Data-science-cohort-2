{
 "cells": [
  {
   "cell_type": "markdown",
   "id": "fb3a2641",
   "metadata": {},
   "source": [
    "## DICTIONARIES"
   ]
  },
  {
   "cell_type": "code",
   "execution_count": 1,
   "id": "a5ebf9cd",
   "metadata": {},
   "outputs": [],
   "source": [
    "person ={\n",
    "    \"first\" : \"Dhrubajyoti\",\n",
    "    \"last\" : \"Patra\",\n",
    "    \"email\" : \"dhrubajyotipatra16@gmail.com\"\n",
    "}"
   ]
  },
  {
   "cell_type": "code",
   "execution_count": 2,
   "id": "1990397b",
   "metadata": {},
   "outputs": [],
   "source": [
    "people ={\n",
    "    \"first\":[\"Dhrubajyoti\"],\n",
    "    \"last\" :[\"Patra\"],\n",
    "    \"email\" :[\"dhrubajyotipatra16@gmail.com\"]\n",
    "}"
   ]
  },
  {
   "cell_type": "code",
   "execution_count": 3,
   "id": "5bf1b58d",
   "metadata": {},
   "outputs": [],
   "source": [
    "people = {\n",
    "    \"first\" : [\"Dhrubajyoti\",\"Shivam\",\"Aniket\"],\n",
    "    \"last\" :[\"Patra\",\"Patel\",\"Ghosh\"],\n",
    "    \"email\":[\"dhrubajyotipatra16@gmail.com\",\"shivampatel@gmail.com\",\"aniketghosh@gmail.com\"]\n",
    "}"
   ]
  },
  {
   "cell_type": "code",
   "execution_count": 4,
   "id": "8e4d5374",
   "metadata": {},
   "outputs": [
    {
     "data": {
      "text/plain": [
       "['Patra', 'Patel', 'Ghosh']"
      ]
     },
     "execution_count": 4,
     "metadata": {},
     "output_type": "execute_result"
    }
   ],
   "source": [
    "people[\"last\"]"
   ]
  },
  {
   "cell_type": "markdown",
   "id": "ee22a544",
   "metadata": {},
   "source": [
    "## Using dictionaries as dataframe"
   ]
  },
  {
   "cell_type": "code",
   "execution_count": 5,
   "id": "83cfe2f8",
   "metadata": {},
   "outputs": [],
   "source": [
    "import pandas as pd\n",
    "import numpy as np"
   ]
  },
  {
   "cell_type": "code",
   "execution_count": 6,
   "id": "ec59df09",
   "metadata": {},
   "outputs": [],
   "source": [
    "df_dict = pd.DataFrame(people)"
   ]
  },
  {
   "cell_type": "code",
   "execution_count": 7,
   "id": "ce75554f",
   "metadata": {},
   "outputs": [
    {
     "data": {
      "text/html": [
       "<div>\n",
       "<style scoped>\n",
       "    .dataframe tbody tr th:only-of-type {\n",
       "        vertical-align: middle;\n",
       "    }\n",
       "\n",
       "    .dataframe tbody tr th {\n",
       "        vertical-align: top;\n",
       "    }\n",
       "\n",
       "    .dataframe thead th {\n",
       "        text-align: right;\n",
       "    }\n",
       "</style>\n",
       "<table border=\"1\" class=\"dataframe\">\n",
       "  <thead>\n",
       "    <tr style=\"text-align: right;\">\n",
       "      <th></th>\n",
       "      <th>first</th>\n",
       "      <th>last</th>\n",
       "      <th>email</th>\n",
       "    </tr>\n",
       "  </thead>\n",
       "  <tbody>\n",
       "    <tr>\n",
       "      <th>0</th>\n",
       "      <td>Dhrubajyoti</td>\n",
       "      <td>Patra</td>\n",
       "      <td>dhrubajyotipatra16@gmail.com</td>\n",
       "    </tr>\n",
       "    <tr>\n",
       "      <th>1</th>\n",
       "      <td>Shivam</td>\n",
       "      <td>Patel</td>\n",
       "      <td>shivampatel@gmail.com</td>\n",
       "    </tr>\n",
       "    <tr>\n",
       "      <th>2</th>\n",
       "      <td>Aniket</td>\n",
       "      <td>Ghosh</td>\n",
       "      <td>aniketghosh@gmail.com</td>\n",
       "    </tr>\n",
       "  </tbody>\n",
       "</table>\n",
       "</div>"
      ],
      "text/plain": [
       "         first   last                         email\n",
       "0  Dhrubajyoti  Patra  dhrubajyotipatra16@gmail.com\n",
       "1       Shivam  Patel         shivampatel@gmail.com\n",
       "2       Aniket  Ghosh         aniketghosh@gmail.com"
      ]
     },
     "execution_count": 7,
     "metadata": {},
     "output_type": "execute_result"
    }
   ],
   "source": [
    "df_dict"
   ]
  },
  {
   "cell_type": "code",
   "execution_count": 8,
   "id": "805966c2",
   "metadata": {},
   "outputs": [
    {
     "data": {
      "text/plain": [
       "0    Patra\n",
       "1    Patel\n",
       "2    Ghosh\n",
       "Name: last, dtype: object"
      ]
     },
     "execution_count": 8,
     "metadata": {},
     "output_type": "execute_result"
    }
   ],
   "source": [
    "df_dict[\"last\"]"
   ]
  },
  {
   "cell_type": "code",
   "execution_count": 9,
   "id": "fecbb6f1",
   "metadata": {},
   "outputs": [
    {
     "data": {
      "text/plain": [
       "pandas.core.series.Series"
      ]
     },
     "execution_count": 9,
     "metadata": {},
     "output_type": "execute_result"
    }
   ],
   "source": [
    "type(df_dict[\"last\"])"
   ]
  },
  {
   "cell_type": "code",
   "execution_count": 10,
   "id": "30159a96",
   "metadata": {},
   "outputs": [
    {
     "data": {
      "text/plain": [
       "0    dhrubajyotipatra16@gmail.com\n",
       "1           shivampatel@gmail.com\n",
       "2           aniketghosh@gmail.com\n",
       "Name: email, dtype: object"
      ]
     },
     "execution_count": 10,
     "metadata": {},
     "output_type": "execute_result"
    }
   ],
   "source": [
    "df_dict.email"
   ]
  },
  {
   "cell_type": "code",
   "execution_count": 11,
   "id": "c54041ed",
   "metadata": {},
   "outputs": [
    {
     "data": {
      "text/html": [
       "<div>\n",
       "<style scoped>\n",
       "    .dataframe tbody tr th:only-of-type {\n",
       "        vertical-align: middle;\n",
       "    }\n",
       "\n",
       "    .dataframe tbody tr th {\n",
       "        vertical-align: top;\n",
       "    }\n",
       "\n",
       "    .dataframe thead th {\n",
       "        text-align: right;\n",
       "    }\n",
       "</style>\n",
       "<table border=\"1\" class=\"dataframe\">\n",
       "  <thead>\n",
       "    <tr style=\"text-align: right;\">\n",
       "      <th></th>\n",
       "      <th>last</th>\n",
       "      <th>email</th>\n",
       "    </tr>\n",
       "  </thead>\n",
       "  <tbody>\n",
       "    <tr>\n",
       "      <th>0</th>\n",
       "      <td>Patra</td>\n",
       "      <td>dhrubajyotipatra16@gmail.com</td>\n",
       "    </tr>\n",
       "    <tr>\n",
       "      <th>1</th>\n",
       "      <td>Patel</td>\n",
       "      <td>shivampatel@gmail.com</td>\n",
       "    </tr>\n",
       "    <tr>\n",
       "      <th>2</th>\n",
       "      <td>Ghosh</td>\n",
       "      <td>aniketghosh@gmail.com</td>\n",
       "    </tr>\n",
       "  </tbody>\n",
       "</table>\n",
       "</div>"
      ],
      "text/plain": [
       "    last                         email\n",
       "0  Patra  dhrubajyotipatra16@gmail.com\n",
       "1  Patel         shivampatel@gmail.com\n",
       "2  Ghosh         aniketghosh@gmail.com"
      ]
     },
     "execution_count": 11,
     "metadata": {},
     "output_type": "execute_result"
    }
   ],
   "source": [
    "df_dict[[\"last\",\"email\"]]"
   ]
  },
  {
   "cell_type": "code",
   "execution_count": 12,
   "id": "d32f5f21",
   "metadata": {},
   "outputs": [
    {
     "data": {
      "text/plain": [
       "Index(['first', 'last', 'email'], dtype='object')"
      ]
     },
     "execution_count": 12,
     "metadata": {},
     "output_type": "execute_result"
    }
   ],
   "source": [
    "df_dict.columns"
   ]
  },
  {
   "cell_type": "markdown",
   "id": "aded4263",
   "metadata": {},
   "source": [
    "## ILOC is used to get rows acc to integer loaction"
   ]
  },
  {
   "cell_type": "code",
   "execution_count": 13,
   "id": "7cd5cedd",
   "metadata": {},
   "outputs": [
    {
     "data": {
      "text/plain": [
       "first                     Dhrubajyoti\n",
       "last                            Patra\n",
       "email    dhrubajyotipatra16@gmail.com\n",
       "Name: 0, dtype: object"
      ]
     },
     "execution_count": 13,
     "metadata": {},
     "output_type": "execute_result"
    }
   ],
   "source": [
    "df_dict.iloc[0]"
   ]
  },
  {
   "cell_type": "code",
   "execution_count": 14,
   "id": "33ce6374",
   "metadata": {},
   "outputs": [
    {
     "data": {
      "text/html": [
       "<div>\n",
       "<style scoped>\n",
       "    .dataframe tbody tr th:only-of-type {\n",
       "        vertical-align: middle;\n",
       "    }\n",
       "\n",
       "    .dataframe tbody tr th {\n",
       "        vertical-align: top;\n",
       "    }\n",
       "\n",
       "    .dataframe thead th {\n",
       "        text-align: right;\n",
       "    }\n",
       "</style>\n",
       "<table border=\"1\" class=\"dataframe\">\n",
       "  <thead>\n",
       "    <tr style=\"text-align: right;\">\n",
       "      <th></th>\n",
       "      <th>first</th>\n",
       "      <th>last</th>\n",
       "      <th>email</th>\n",
       "    </tr>\n",
       "  </thead>\n",
       "  <tbody>\n",
       "    <tr>\n",
       "      <th>0</th>\n",
       "      <td>Dhrubajyoti</td>\n",
       "      <td>Patra</td>\n",
       "      <td>dhrubajyotipatra16@gmail.com</td>\n",
       "    </tr>\n",
       "    <tr>\n",
       "      <th>1</th>\n",
       "      <td>Shivam</td>\n",
       "      <td>Patel</td>\n",
       "      <td>shivampatel@gmail.com</td>\n",
       "    </tr>\n",
       "  </tbody>\n",
       "</table>\n",
       "</div>"
      ],
      "text/plain": [
       "         first   last                         email\n",
       "0  Dhrubajyoti  Patra  dhrubajyotipatra16@gmail.com\n",
       "1       Shivam  Patel         shivampatel@gmail.com"
      ]
     },
     "execution_count": 14,
     "metadata": {},
     "output_type": "execute_result"
    }
   ],
   "source": [
    "df_dict.iloc[[0,1]]"
   ]
  },
  {
   "cell_type": "markdown",
   "id": "d23a416e",
   "metadata": {},
   "source": [
    "## here 2 is used to specify which column we want from the above table"
   ]
  },
  {
   "cell_type": "code",
   "execution_count": 15,
   "id": "b903d385",
   "metadata": {},
   "outputs": [
    {
     "data": {
      "text/plain": [
       "0    dhrubajyotipatra16@gmail.com\n",
       "1           shivampatel@gmail.com\n",
       "Name: email, dtype: object"
      ]
     },
     "execution_count": 15,
     "metadata": {},
     "output_type": "execute_result"
    }
   ],
   "source": [
    "df_dict.iloc[[0,1],2]"
   ]
  },
  {
   "cell_type": "code",
   "execution_count": 16,
   "id": "26f0ae5d",
   "metadata": {},
   "outputs": [
    {
     "data": {
      "text/html": [
       "<div>\n",
       "<style scoped>\n",
       "    .dataframe tbody tr th:only-of-type {\n",
       "        vertical-align: middle;\n",
       "    }\n",
       "\n",
       "    .dataframe tbody tr th {\n",
       "        vertical-align: top;\n",
       "    }\n",
       "\n",
       "    .dataframe thead th {\n",
       "        text-align: right;\n",
       "    }\n",
       "</style>\n",
       "<table border=\"1\" class=\"dataframe\">\n",
       "  <thead>\n",
       "    <tr style=\"text-align: right;\">\n",
       "      <th></th>\n",
       "      <th>first</th>\n",
       "      <th>last</th>\n",
       "      <th>email</th>\n",
       "    </tr>\n",
       "  </thead>\n",
       "  <tbody>\n",
       "    <tr>\n",
       "      <th>0</th>\n",
       "      <td>Dhrubajyoti</td>\n",
       "      <td>Patra</td>\n",
       "      <td>dhrubajyotipatra16@gmail.com</td>\n",
       "    </tr>\n",
       "    <tr>\n",
       "      <th>1</th>\n",
       "      <td>Shivam</td>\n",
       "      <td>Patel</td>\n",
       "      <td>shivampatel@gmail.com</td>\n",
       "    </tr>\n",
       "    <tr>\n",
       "      <th>2</th>\n",
       "      <td>Aniket</td>\n",
       "      <td>Ghosh</td>\n",
       "      <td>aniketghosh@gmail.com</td>\n",
       "    </tr>\n",
       "  </tbody>\n",
       "</table>\n",
       "</div>"
      ],
      "text/plain": [
       "         first   last                         email\n",
       "0  Dhrubajyoti  Patra  dhrubajyotipatra16@gmail.com\n",
       "1       Shivam  Patel         shivampatel@gmail.com\n",
       "2       Aniket  Ghosh         aniketghosh@gmail.com"
      ]
     },
     "execution_count": 16,
     "metadata": {},
     "output_type": "execute_result"
    }
   ],
   "source": [
    "df_dict"
   ]
  },
  {
   "cell_type": "code",
   "execution_count": 17,
   "id": "5a122ba8",
   "metadata": {},
   "outputs": [
    {
     "data": {
      "text/plain": [
       "first                     Dhrubajyoti\n",
       "last                            Patra\n",
       "email    dhrubajyotipatra16@gmail.com\n",
       "Name: 0, dtype: object"
      ]
     },
     "execution_count": 17,
     "metadata": {},
     "output_type": "execute_result"
    }
   ],
   "source": [
    "df_dict.loc[0]"
   ]
  },
  {
   "cell_type": "markdown",
   "id": "322253e2",
   "metadata": {},
   "source": [
    "## To see particular column values for specified rows in terms integer position"
   ]
  },
  {
   "cell_type": "code",
   "execution_count": 18,
   "id": "f5b6aec8",
   "metadata": {},
   "outputs": [
    {
     "data": {
      "text/html": [
       "<div>\n",
       "<style scoped>\n",
       "    .dataframe tbody tr th:only-of-type {\n",
       "        vertical-align: middle;\n",
       "    }\n",
       "\n",
       "    .dataframe tbody tr th {\n",
       "        vertical-align: top;\n",
       "    }\n",
       "\n",
       "    .dataframe thead th {\n",
       "        text-align: right;\n",
       "    }\n",
       "</style>\n",
       "<table border=\"1\" class=\"dataframe\">\n",
       "  <thead>\n",
       "    <tr style=\"text-align: right;\">\n",
       "      <th></th>\n",
       "      <th>last</th>\n",
       "      <th>first</th>\n",
       "    </tr>\n",
       "  </thead>\n",
       "  <tbody>\n",
       "    <tr>\n",
       "      <th>0</th>\n",
       "      <td>Patra</td>\n",
       "      <td>Dhrubajyoti</td>\n",
       "    </tr>\n",
       "    <tr>\n",
       "      <th>1</th>\n",
       "      <td>Patel</td>\n",
       "      <td>Shivam</td>\n",
       "    </tr>\n",
       "  </tbody>\n",
       "</table>\n",
       "</div>"
      ],
      "text/plain": [
       "    last        first\n",
       "0  Patra  Dhrubajyoti\n",
       "1  Patel       Shivam"
      ]
     },
     "execution_count": 18,
     "metadata": {},
     "output_type": "execute_result"
    }
   ],
   "source": [
    "df_dict.loc[[0,1],['last','first']]"
   ]
  },
  {
   "cell_type": "code",
   "execution_count": 19,
   "id": "7057b66d",
   "metadata": {},
   "outputs": [
    {
     "data": {
      "text/html": [
       "<div>\n",
       "<style scoped>\n",
       "    .dataframe tbody tr th:only-of-type {\n",
       "        vertical-align: middle;\n",
       "    }\n",
       "\n",
       "    .dataframe tbody tr th {\n",
       "        vertical-align: top;\n",
       "    }\n",
       "\n",
       "    .dataframe thead th {\n",
       "        text-align: right;\n",
       "    }\n",
       "</style>\n",
       "<table border=\"1\" class=\"dataframe\">\n",
       "  <thead>\n",
       "    <tr style=\"text-align: right;\">\n",
       "      <th></th>\n",
       "      <th>first</th>\n",
       "      <th>last</th>\n",
       "      <th>email</th>\n",
       "    </tr>\n",
       "  </thead>\n",
       "  <tbody>\n",
       "    <tr>\n",
       "      <th>0</th>\n",
       "      <td>Dhrubajyoti</td>\n",
       "      <td>Patra</td>\n",
       "      <td>dhrubajyotipatra16@gmail.com</td>\n",
       "    </tr>\n",
       "    <tr>\n",
       "      <th>1</th>\n",
       "      <td>Shivam</td>\n",
       "      <td>Patel</td>\n",
       "      <td>shivampatel@gmail.com</td>\n",
       "    </tr>\n",
       "    <tr>\n",
       "      <th>2</th>\n",
       "      <td>Aniket</td>\n",
       "      <td>Ghosh</td>\n",
       "      <td>aniketghosh@gmail.com</td>\n",
       "    </tr>\n",
       "  </tbody>\n",
       "</table>\n",
       "</div>"
      ],
      "text/plain": [
       "         first   last                         email\n",
       "0  Dhrubajyoti  Patra  dhrubajyotipatra16@gmail.com\n",
       "1       Shivam  Patel         shivampatel@gmail.com\n",
       "2       Aniket  Ghosh         aniketghosh@gmail.com"
      ]
     },
     "execution_count": 19,
     "metadata": {},
     "output_type": "execute_result"
    }
   ],
   "source": [
    "df_dict"
   ]
  },
  {
   "cell_type": "markdown",
   "id": "7739a543",
   "metadata": {},
   "source": [
    "## Uses of index in dataframes"
   ]
  },
  {
   "cell_type": "code",
   "execution_count": 20,
   "id": "6d38c924",
   "metadata": {},
   "outputs": [
    {
     "data": {
      "text/html": [
       "<div>\n",
       "<style scoped>\n",
       "    .dataframe tbody tr th:only-of-type {\n",
       "        vertical-align: middle;\n",
       "    }\n",
       "\n",
       "    .dataframe tbody tr th {\n",
       "        vertical-align: top;\n",
       "    }\n",
       "\n",
       "    .dataframe thead th {\n",
       "        text-align: right;\n",
       "    }\n",
       "</style>\n",
       "<table border=\"1\" class=\"dataframe\">\n",
       "  <thead>\n",
       "    <tr style=\"text-align: right;\">\n",
       "      <th></th>\n",
       "      <th>first</th>\n",
       "      <th>last</th>\n",
       "    </tr>\n",
       "    <tr>\n",
       "      <th>email</th>\n",
       "      <th></th>\n",
       "      <th></th>\n",
       "    </tr>\n",
       "  </thead>\n",
       "  <tbody>\n",
       "    <tr>\n",
       "      <th>dhrubajyotipatra16@gmail.com</th>\n",
       "      <td>Dhrubajyoti</td>\n",
       "      <td>Patra</td>\n",
       "    </tr>\n",
       "    <tr>\n",
       "      <th>shivampatel@gmail.com</th>\n",
       "      <td>Shivam</td>\n",
       "      <td>Patel</td>\n",
       "    </tr>\n",
       "    <tr>\n",
       "      <th>aniketghosh@gmail.com</th>\n",
       "      <td>Aniket</td>\n",
       "      <td>Ghosh</td>\n",
       "    </tr>\n",
       "  </tbody>\n",
       "</table>\n",
       "</div>"
      ],
      "text/plain": [
       "                                    first   last\n",
       "email                                           \n",
       "dhrubajyotipatra16@gmail.com  Dhrubajyoti  Patra\n",
       "shivampatel@gmail.com              Shivam  Patel\n",
       "aniketghosh@gmail.com              Aniket  Ghosh"
      ]
     },
     "execution_count": 20,
     "metadata": {},
     "output_type": "execute_result"
    }
   ],
   "source": [
    "df_dict.set_index(\"email\")"
   ]
  },
  {
   "cell_type": "code",
   "execution_count": 21,
   "id": "d5ac265d",
   "metadata": {},
   "outputs": [
    {
     "data": {
      "text/html": [
       "<div>\n",
       "<style scoped>\n",
       "    .dataframe tbody tr th:only-of-type {\n",
       "        vertical-align: middle;\n",
       "    }\n",
       "\n",
       "    .dataframe tbody tr th {\n",
       "        vertical-align: top;\n",
       "    }\n",
       "\n",
       "    .dataframe thead th {\n",
       "        text-align: right;\n",
       "    }\n",
       "</style>\n",
       "<table border=\"1\" class=\"dataframe\">\n",
       "  <thead>\n",
       "    <tr style=\"text-align: right;\">\n",
       "      <th></th>\n",
       "      <th>first</th>\n",
       "      <th>last</th>\n",
       "      <th>email</th>\n",
       "    </tr>\n",
       "  </thead>\n",
       "  <tbody>\n",
       "    <tr>\n",
       "      <th>0</th>\n",
       "      <td>Dhrubajyoti</td>\n",
       "      <td>Patra</td>\n",
       "      <td>dhrubajyotipatra16@gmail.com</td>\n",
       "    </tr>\n",
       "    <tr>\n",
       "      <th>1</th>\n",
       "      <td>Shivam</td>\n",
       "      <td>Patel</td>\n",
       "      <td>shivampatel@gmail.com</td>\n",
       "    </tr>\n",
       "    <tr>\n",
       "      <th>2</th>\n",
       "      <td>Aniket</td>\n",
       "      <td>Ghosh</td>\n",
       "      <td>aniketghosh@gmail.com</td>\n",
       "    </tr>\n",
       "  </tbody>\n",
       "</table>\n",
       "</div>"
      ],
      "text/plain": [
       "         first   last                         email\n",
       "0  Dhrubajyoti  Patra  dhrubajyotipatra16@gmail.com\n",
       "1       Shivam  Patel         shivampatel@gmail.com\n",
       "2       Aniket  Ghosh         aniketghosh@gmail.com"
      ]
     },
     "execution_count": 21,
     "metadata": {},
     "output_type": "execute_result"
    }
   ],
   "source": [
    "df_dict"
   ]
  },
  {
   "cell_type": "markdown",
   "id": "53ff5d55",
   "metadata": {},
   "source": [
    "## To make changes in orginal dataframe we have to use set_index"
   ]
  },
  {
   "cell_type": "code",
   "execution_count": 22,
   "id": "b1f41398",
   "metadata": {},
   "outputs": [],
   "source": [
    "df_dict.set_index(\"email\",inplace=True)"
   ]
  },
  {
   "cell_type": "code",
   "execution_count": 23,
   "id": "a3ca480e",
   "metadata": {},
   "outputs": [
    {
     "data": {
      "text/html": [
       "<div>\n",
       "<style scoped>\n",
       "    .dataframe tbody tr th:only-of-type {\n",
       "        vertical-align: middle;\n",
       "    }\n",
       "\n",
       "    .dataframe tbody tr th {\n",
       "        vertical-align: top;\n",
       "    }\n",
       "\n",
       "    .dataframe thead th {\n",
       "        text-align: right;\n",
       "    }\n",
       "</style>\n",
       "<table border=\"1\" class=\"dataframe\">\n",
       "  <thead>\n",
       "    <tr style=\"text-align: right;\">\n",
       "      <th></th>\n",
       "      <th>first</th>\n",
       "      <th>last</th>\n",
       "    </tr>\n",
       "    <tr>\n",
       "      <th>email</th>\n",
       "      <th></th>\n",
       "      <th></th>\n",
       "    </tr>\n",
       "  </thead>\n",
       "  <tbody>\n",
       "    <tr>\n",
       "      <th>dhrubajyotipatra16@gmail.com</th>\n",
       "      <td>Dhrubajyoti</td>\n",
       "      <td>Patra</td>\n",
       "    </tr>\n",
       "    <tr>\n",
       "      <th>shivampatel@gmail.com</th>\n",
       "      <td>Shivam</td>\n",
       "      <td>Patel</td>\n",
       "    </tr>\n",
       "    <tr>\n",
       "      <th>aniketghosh@gmail.com</th>\n",
       "      <td>Aniket</td>\n",
       "      <td>Ghosh</td>\n",
       "    </tr>\n",
       "  </tbody>\n",
       "</table>\n",
       "</div>"
      ],
      "text/plain": [
       "                                    first   last\n",
       "email                                           \n",
       "dhrubajyotipatra16@gmail.com  Dhrubajyoti  Patra\n",
       "shivampatel@gmail.com              Shivam  Patel\n",
       "aniketghosh@gmail.com              Aniket  Ghosh"
      ]
     },
     "execution_count": 23,
     "metadata": {},
     "output_type": "execute_result"
    }
   ],
   "source": [
    "df_dict"
   ]
  },
  {
   "cell_type": "markdown",
   "id": "ecd6d22f",
   "metadata": {},
   "source": [
    "## To confirm it we can use .index"
   ]
  },
  {
   "cell_type": "code",
   "execution_count": 24,
   "id": "e932f1af",
   "metadata": {},
   "outputs": [
    {
     "data": {
      "text/plain": [
       "Index(['dhrubajyotipatra16@gmail.com', 'shivampatel@gmail.com',\n",
       "       'aniketghosh@gmail.com'],\n",
       "      dtype='object', name='email')"
      ]
     },
     "execution_count": 24,
     "metadata": {},
     "output_type": "execute_result"
    }
   ],
   "source": [
    "df_dict.index"
   ]
  },
  {
   "cell_type": "markdown",
   "id": "6a50ea0d",
   "metadata": {},
   "source": [
    "## We can use now the email id as index values "
   ]
  },
  {
   "cell_type": "code",
   "execution_count": 25,
   "id": "8421515a",
   "metadata": {},
   "outputs": [
    {
     "data": {
      "text/plain": [
       "'Patel'"
      ]
     },
     "execution_count": 25,
     "metadata": {},
     "output_type": "execute_result"
    }
   ],
   "source": [
    "df_dict.loc[\"shivampatel@gmail.com\", \"last\"]"
   ]
  },
  {
   "cell_type": "code",
   "execution_count": 26,
   "id": "e34481d0",
   "metadata": {},
   "outputs": [
    {
     "data": {
      "text/plain": [
       "first    Dhrubajyoti\n",
       "last           Patra\n",
       "Name: dhrubajyotipatra16@gmail.com, dtype: object"
      ]
     },
     "execution_count": 26,
     "metadata": {},
     "output_type": "execute_result"
    }
   ],
   "source": [
    "df_dict.iloc[0]"
   ]
  },
  {
   "cell_type": "markdown",
   "id": "7e03f911",
   "metadata": {},
   "source": [
    "## We can reset it again to its orginal index"
   ]
  },
  {
   "cell_type": "code",
   "execution_count": 27,
   "id": "65de79e9",
   "metadata": {},
   "outputs": [
    {
     "data": {
      "text/html": [
       "<div>\n",
       "<style scoped>\n",
       "    .dataframe tbody tr th:only-of-type {\n",
       "        vertical-align: middle;\n",
       "    }\n",
       "\n",
       "    .dataframe tbody tr th {\n",
       "        vertical-align: top;\n",
       "    }\n",
       "\n",
       "    .dataframe thead th {\n",
       "        text-align: right;\n",
       "    }\n",
       "</style>\n",
       "<table border=\"1\" class=\"dataframe\">\n",
       "  <thead>\n",
       "    <tr style=\"text-align: right;\">\n",
       "      <th></th>\n",
       "      <th>email</th>\n",
       "      <th>first</th>\n",
       "      <th>last</th>\n",
       "    </tr>\n",
       "  </thead>\n",
       "  <tbody>\n",
       "    <tr>\n",
       "      <th>0</th>\n",
       "      <td>dhrubajyotipatra16@gmail.com</td>\n",
       "      <td>Dhrubajyoti</td>\n",
       "      <td>Patra</td>\n",
       "    </tr>\n",
       "    <tr>\n",
       "      <th>1</th>\n",
       "      <td>shivampatel@gmail.com</td>\n",
       "      <td>Shivam</td>\n",
       "      <td>Patel</td>\n",
       "    </tr>\n",
       "    <tr>\n",
       "      <th>2</th>\n",
       "      <td>aniketghosh@gmail.com</td>\n",
       "      <td>Aniket</td>\n",
       "      <td>Ghosh</td>\n",
       "    </tr>\n",
       "  </tbody>\n",
       "</table>\n",
       "</div>"
      ],
      "text/plain": [
       "                          email        first   last\n",
       "0  dhrubajyotipatra16@gmail.com  Dhrubajyoti  Patra\n",
       "1         shivampatel@gmail.com       Shivam  Patel\n",
       "2         aniketghosh@gmail.com       Aniket  Ghosh"
      ]
     },
     "execution_count": 27,
     "metadata": {},
     "output_type": "execute_result"
    }
   ],
   "source": [
    "df_dict.reset_index(inplace=True)\n",
    "df_dict"
   ]
  },
  {
   "cell_type": "markdown",
   "id": "f2c9adba",
   "metadata": {},
   "source": [
    "## To check for some specific condition either it return true or false"
   ]
  },
  {
   "cell_type": "code",
   "execution_count": 28,
   "id": "082ac598",
   "metadata": {},
   "outputs": [
    {
     "data": {
      "text/plain": [
       "0    False\n",
       "1    False\n",
       "2    False\n",
       "Name: last, dtype: bool"
      ]
     },
     "execution_count": 28,
     "metadata": {},
     "output_type": "execute_result"
    }
   ],
   "source": [
    "df_dict[\"last\"] == \"patel\""
   ]
  },
  {
   "cell_type": "code",
   "execution_count": 29,
   "id": "373d37ab",
   "metadata": {},
   "outputs": [],
   "source": [
    "filter = (df_dict[\"last\"] == \"patel\")"
   ]
  },
  {
   "cell_type": "code",
   "execution_count": 30,
   "id": "ea09bdbe",
   "metadata": {},
   "outputs": [
    {
     "data": {
      "text/html": [
       "<div>\n",
       "<style scoped>\n",
       "    .dataframe tbody tr th:only-of-type {\n",
       "        vertical-align: middle;\n",
       "    }\n",
       "\n",
       "    .dataframe tbody tr th {\n",
       "        vertical-align: top;\n",
       "    }\n",
       "\n",
       "    .dataframe thead th {\n",
       "        text-align: right;\n",
       "    }\n",
       "</style>\n",
       "<table border=\"1\" class=\"dataframe\">\n",
       "  <thead>\n",
       "    <tr style=\"text-align: right;\">\n",
       "      <th></th>\n",
       "      <th>email</th>\n",
       "      <th>first</th>\n",
       "      <th>last</th>\n",
       "    </tr>\n",
       "  </thead>\n",
       "  <tbody>\n",
       "  </tbody>\n",
       "</table>\n",
       "</div>"
      ],
      "text/plain": [
       "Empty DataFrame\n",
       "Columns: [email, first, last]\n",
       "Index: []"
      ]
     },
     "execution_count": 30,
     "metadata": {},
     "output_type": "execute_result"
    }
   ],
   "source": [
    "df_dict[filter]"
   ]
  },
  {
   "cell_type": "markdown",
   "id": "0ce0a658",
   "metadata": {},
   "source": [
    "## We can search for other details of any specific value once it matches the above condition  "
   ]
  },
  {
   "cell_type": "code",
   "execution_count": 31,
   "id": "9463fa86",
   "metadata": {},
   "outputs": [
    {
     "data": {
      "text/plain": [
       "Series([], Name: email, dtype: object)"
      ]
     },
     "execution_count": 31,
     "metadata": {},
     "output_type": "execute_result"
    }
   ],
   "source": [
    "df_dict.loc[filter,\"email\"]"
   ]
  },
  {
   "cell_type": "markdown",
   "id": "f9d89c1d",
   "metadata": {},
   "source": [
    "## \" ~ \"can be used to get every value that doesn't match the condition\"~ filter\" "
   ]
  },
  {
   "cell_type": "code",
   "execution_count": 32,
   "id": "2136b669",
   "metadata": {},
   "outputs": [
    {
     "data": {
      "text/plain": [
       "0    dhrubajyotipatra16@gmail.com\n",
       "1           shivampatel@gmail.com\n",
       "2           aniketghosh@gmail.com\n",
       "Name: email, dtype: object"
      ]
     },
     "execution_count": 32,
     "metadata": {},
     "output_type": "execute_result"
    }
   ],
   "source": [
    "df_dict.loc[~filter,\"email\"]"
   ]
  },
  {
   "cell_type": "code",
   "execution_count": 33,
   "id": "0d169fcd",
   "metadata": {},
   "outputs": [
    {
     "data": {
      "text/plain": [
       "Index(['email', 'first', 'last'], dtype='object')"
      ]
     },
     "execution_count": 33,
     "metadata": {},
     "output_type": "execute_result"
    }
   ],
   "source": [
    "df_dict.columns"
   ]
  },
  {
   "cell_type": "markdown",
   "id": "3e333bd4",
   "metadata": {},
   "source": [
    "## To change the Column name"
   ]
  },
  {
   "cell_type": "code",
   "execution_count": 34,
   "id": "f754c542",
   "metadata": {},
   "outputs": [],
   "source": [
    "df_dict.columns = ['email','first_name','Last_name']"
   ]
  },
  {
   "cell_type": "code",
   "execution_count": 35,
   "id": "104b8b08",
   "metadata": {},
   "outputs": [
    {
     "data": {
      "text/html": [
       "<div>\n",
       "<style scoped>\n",
       "    .dataframe tbody tr th:only-of-type {\n",
       "        vertical-align: middle;\n",
       "    }\n",
       "\n",
       "    .dataframe tbody tr th {\n",
       "        vertical-align: top;\n",
       "    }\n",
       "\n",
       "    .dataframe thead th {\n",
       "        text-align: right;\n",
       "    }\n",
       "</style>\n",
       "<table border=\"1\" class=\"dataframe\">\n",
       "  <thead>\n",
       "    <tr style=\"text-align: right;\">\n",
       "      <th></th>\n",
       "      <th>email</th>\n",
       "      <th>first_name</th>\n",
       "      <th>Last_name</th>\n",
       "    </tr>\n",
       "  </thead>\n",
       "  <tbody>\n",
       "    <tr>\n",
       "      <th>0</th>\n",
       "      <td>dhrubajyotipatra16@gmail.com</td>\n",
       "      <td>Dhrubajyoti</td>\n",
       "      <td>Patra</td>\n",
       "    </tr>\n",
       "    <tr>\n",
       "      <th>1</th>\n",
       "      <td>shivampatel@gmail.com</td>\n",
       "      <td>Shivam</td>\n",
       "      <td>Patel</td>\n",
       "    </tr>\n",
       "    <tr>\n",
       "      <th>2</th>\n",
       "      <td>aniketghosh@gmail.com</td>\n",
       "      <td>Aniket</td>\n",
       "      <td>Ghosh</td>\n",
       "    </tr>\n",
       "  </tbody>\n",
       "</table>\n",
       "</div>"
      ],
      "text/plain": [
       "                          email   first_name Last_name\n",
       "0  dhrubajyotipatra16@gmail.com  Dhrubajyoti     Patra\n",
       "1         shivampatel@gmail.com       Shivam     Patel\n",
       "2         aniketghosh@gmail.com       Aniket     Ghosh"
      ]
     },
     "execution_count": 35,
     "metadata": {},
     "output_type": "execute_result"
    }
   ],
   "source": [
    "df_dict"
   ]
  },
  {
   "cell_type": "code",
   "execution_count": 36,
   "id": "d38271b7",
   "metadata": {},
   "outputs": [
    {
     "data": {
      "text/html": [
       "<div>\n",
       "<style scoped>\n",
       "    .dataframe tbody tr th:only-of-type {\n",
       "        vertical-align: middle;\n",
       "    }\n",
       "\n",
       "    .dataframe tbody tr th {\n",
       "        vertical-align: top;\n",
       "    }\n",
       "\n",
       "    .dataframe thead th {\n",
       "        text-align: right;\n",
       "    }\n",
       "</style>\n",
       "<table border=\"1\" class=\"dataframe\">\n",
       "  <thead>\n",
       "    <tr style=\"text-align: right;\">\n",
       "      <th></th>\n",
       "      <th>EMAIL</th>\n",
       "      <th>FIRST_NAME</th>\n",
       "      <th>LAST_NAME</th>\n",
       "    </tr>\n",
       "  </thead>\n",
       "  <tbody>\n",
       "    <tr>\n",
       "      <th>0</th>\n",
       "      <td>dhrubajyotipatra16@gmail.com</td>\n",
       "      <td>Dhrubajyoti</td>\n",
       "      <td>Patra</td>\n",
       "    </tr>\n",
       "    <tr>\n",
       "      <th>1</th>\n",
       "      <td>shivampatel@gmail.com</td>\n",
       "      <td>Shivam</td>\n",
       "      <td>Patel</td>\n",
       "    </tr>\n",
       "    <tr>\n",
       "      <th>2</th>\n",
       "      <td>aniketghosh@gmail.com</td>\n",
       "      <td>Aniket</td>\n",
       "      <td>Ghosh</td>\n",
       "    </tr>\n",
       "  </tbody>\n",
       "</table>\n",
       "</div>"
      ],
      "text/plain": [
       "                          EMAIL   FIRST_NAME LAST_NAME\n",
       "0  dhrubajyotipatra16@gmail.com  Dhrubajyoti     Patra\n",
       "1         shivampatel@gmail.com       Shivam     Patel\n",
       "2         aniketghosh@gmail.com       Aniket     Ghosh"
      ]
     },
     "execution_count": 36,
     "metadata": {},
     "output_type": "execute_result"
    }
   ],
   "source": [
    "df_dict.columns = [x.upper() for x in df_dict.columns]\n",
    "df_dict"
   ]
  },
  {
   "cell_type": "markdown",
   "id": "f5a05ed4",
   "metadata": {},
   "source": [
    "## We can replace the ' _ ' with spaces if we want"
   ]
  },
  {
   "cell_type": "code",
   "execution_count": 37,
   "id": "4bab79e1",
   "metadata": {},
   "outputs": [
    {
     "data": {
      "text/html": [
       "<div>\n",
       "<style scoped>\n",
       "    .dataframe tbody tr th:only-of-type {\n",
       "        vertical-align: middle;\n",
       "    }\n",
       "\n",
       "    .dataframe tbody tr th {\n",
       "        vertical-align: top;\n",
       "    }\n",
       "\n",
       "    .dataframe thead th {\n",
       "        text-align: right;\n",
       "    }\n",
       "</style>\n",
       "<table border=\"1\" class=\"dataframe\">\n",
       "  <thead>\n",
       "    <tr style=\"text-align: right;\">\n",
       "      <th></th>\n",
       "      <th>EMAIL</th>\n",
       "      <th>FIRST NAME</th>\n",
       "      <th>LAST NAME</th>\n",
       "    </tr>\n",
       "  </thead>\n",
       "  <tbody>\n",
       "    <tr>\n",
       "      <th>0</th>\n",
       "      <td>dhrubajyotipatra16@gmail.com</td>\n",
       "      <td>Dhrubajyoti</td>\n",
       "      <td>Patra</td>\n",
       "    </tr>\n",
       "    <tr>\n",
       "      <th>1</th>\n",
       "      <td>shivampatel@gmail.com</td>\n",
       "      <td>Shivam</td>\n",
       "      <td>Patel</td>\n",
       "    </tr>\n",
       "    <tr>\n",
       "      <th>2</th>\n",
       "      <td>aniketghosh@gmail.com</td>\n",
       "      <td>Aniket</td>\n",
       "      <td>Ghosh</td>\n",
       "    </tr>\n",
       "  </tbody>\n",
       "</table>\n",
       "</div>"
      ],
      "text/plain": [
       "                          EMAIL   FIRST NAME LAST NAME\n",
       "0  dhrubajyotipatra16@gmail.com  Dhrubajyoti     Patra\n",
       "1         shivampatel@gmail.com       Shivam     Patel\n",
       "2         aniketghosh@gmail.com       Aniket     Ghosh"
      ]
     },
     "execution_count": 37,
     "metadata": {},
     "output_type": "execute_result"
    }
   ],
   "source": [
    "df_dict.columns = df_dict.columns.str.replace('_',' ')\n",
    "df_dict"
   ]
  },
  {
   "cell_type": "markdown",
   "id": "926a65e2",
   "metadata": {},
   "source": [
    "## Changing the column name to previous ones"
   ]
  },
  {
   "cell_type": "code",
   "execution_count": 38,
   "id": "4ddb7220",
   "metadata": {},
   "outputs": [],
   "source": [
    "df_dict.rename(columns = {'FIRST NAME' : 'first', 'LAST NAME' : 'last'}, inplace=True)"
   ]
  },
  {
   "cell_type": "code",
   "execution_count": 39,
   "id": "1980269b",
   "metadata": {},
   "outputs": [
    {
     "data": {
      "text/html": [
       "<div>\n",
       "<style scoped>\n",
       "    .dataframe tbody tr th:only-of-type {\n",
       "        vertical-align: middle;\n",
       "    }\n",
       "\n",
       "    .dataframe tbody tr th {\n",
       "        vertical-align: top;\n",
       "    }\n",
       "\n",
       "    .dataframe thead th {\n",
       "        text-align: right;\n",
       "    }\n",
       "</style>\n",
       "<table border=\"1\" class=\"dataframe\">\n",
       "  <thead>\n",
       "    <tr style=\"text-align: right;\">\n",
       "      <th></th>\n",
       "      <th>EMAIL</th>\n",
       "      <th>first</th>\n",
       "      <th>last</th>\n",
       "    </tr>\n",
       "  </thead>\n",
       "  <tbody>\n",
       "    <tr>\n",
       "      <th>0</th>\n",
       "      <td>dhrubajyotipatra16@gmail.com</td>\n",
       "      <td>Dhrubajyoti</td>\n",
       "      <td>Patra</td>\n",
       "    </tr>\n",
       "    <tr>\n",
       "      <th>1</th>\n",
       "      <td>shivampatel@gmail.com</td>\n",
       "      <td>Shivam</td>\n",
       "      <td>Patel</td>\n",
       "    </tr>\n",
       "    <tr>\n",
       "      <th>2</th>\n",
       "      <td>aniketghosh@gmail.com</td>\n",
       "      <td>Aniket</td>\n",
       "      <td>Ghosh</td>\n",
       "    </tr>\n",
       "  </tbody>\n",
       "</table>\n",
       "</div>"
      ],
      "text/plain": [
       "                          EMAIL        first   last\n",
       "0  dhrubajyotipatra16@gmail.com  Dhrubajyoti  Patra\n",
       "1         shivampatel@gmail.com       Shivam  Patel\n",
       "2         aniketghosh@gmail.com       Aniket  Ghosh"
      ]
     },
     "execution_count": 39,
     "metadata": {},
     "output_type": "execute_result"
    }
   ],
   "source": [
    "df_dict"
   ]
  },
  {
   "cell_type": "code",
   "execution_count": 40,
   "id": "19424ca9",
   "metadata": {},
   "outputs": [],
   "source": [
    "df_dict.loc[2,['last','EMAIL']] = ['das','aniketdas@gmail.com']"
   ]
  },
  {
   "cell_type": "code",
   "execution_count": 41,
   "id": "cb55dc5d",
   "metadata": {},
   "outputs": [
    {
     "data": {
      "text/html": [
       "<div>\n",
       "<style scoped>\n",
       "    .dataframe tbody tr th:only-of-type {\n",
       "        vertical-align: middle;\n",
       "    }\n",
       "\n",
       "    .dataframe tbody tr th {\n",
       "        vertical-align: top;\n",
       "    }\n",
       "\n",
       "    .dataframe thead th {\n",
       "        text-align: right;\n",
       "    }\n",
       "</style>\n",
       "<table border=\"1\" class=\"dataframe\">\n",
       "  <thead>\n",
       "    <tr style=\"text-align: right;\">\n",
       "      <th></th>\n",
       "      <th>EMAIL</th>\n",
       "      <th>first</th>\n",
       "      <th>last</th>\n",
       "    </tr>\n",
       "  </thead>\n",
       "  <tbody>\n",
       "    <tr>\n",
       "      <th>0</th>\n",
       "      <td>dhrubajyotipatra16@gmail.com</td>\n",
       "      <td>Dhrubajyoti</td>\n",
       "      <td>Patra</td>\n",
       "    </tr>\n",
       "    <tr>\n",
       "      <th>1</th>\n",
       "      <td>shivampatel@gmail.com</td>\n",
       "      <td>Shivam</td>\n",
       "      <td>Patel</td>\n",
       "    </tr>\n",
       "    <tr>\n",
       "      <th>2</th>\n",
       "      <td>aniketdas@gmail.com</td>\n",
       "      <td>Aniket</td>\n",
       "      <td>das</td>\n",
       "    </tr>\n",
       "  </tbody>\n",
       "</table>\n",
       "</div>"
      ],
      "text/plain": [
       "                          EMAIL        first   last\n",
       "0  dhrubajyotipatra16@gmail.com  Dhrubajyoti  Patra\n",
       "1         shivampatel@gmail.com       Shivam  Patel\n",
       "2           aniketdas@gmail.com       Aniket    das"
      ]
     },
     "execution_count": 41,
     "metadata": {},
     "output_type": "execute_result"
    }
   ],
   "source": [
    "df_dict"
   ]
  },
  {
   "cell_type": "code",
   "execution_count": 42,
   "id": "4ed42d61",
   "metadata": {},
   "outputs": [],
   "source": [
    "df_dict.loc[2,'last'] = \"Ghosh\""
   ]
  },
  {
   "cell_type": "code",
   "execution_count": 43,
   "id": "596bd073",
   "metadata": {},
   "outputs": [
    {
     "data": {
      "text/html": [
       "<div>\n",
       "<style scoped>\n",
       "    .dataframe tbody tr th:only-of-type {\n",
       "        vertical-align: middle;\n",
       "    }\n",
       "\n",
       "    .dataframe tbody tr th {\n",
       "        vertical-align: top;\n",
       "    }\n",
       "\n",
       "    .dataframe thead th {\n",
       "        text-align: right;\n",
       "    }\n",
       "</style>\n",
       "<table border=\"1\" class=\"dataframe\">\n",
       "  <thead>\n",
       "    <tr style=\"text-align: right;\">\n",
       "      <th></th>\n",
       "      <th>EMAIL</th>\n",
       "      <th>first</th>\n",
       "      <th>last</th>\n",
       "    </tr>\n",
       "  </thead>\n",
       "  <tbody>\n",
       "    <tr>\n",
       "      <th>0</th>\n",
       "      <td>dhrubajyotipatra16@gmail.com</td>\n",
       "      <td>Dhrubajyoti</td>\n",
       "      <td>Patra</td>\n",
       "    </tr>\n",
       "    <tr>\n",
       "      <th>1</th>\n",
       "      <td>shivampatel@gmail.com</td>\n",
       "      <td>Shivam</td>\n",
       "      <td>Patel</td>\n",
       "    </tr>\n",
       "    <tr>\n",
       "      <th>2</th>\n",
       "      <td>aniketdas@gmail.com</td>\n",
       "      <td>Aniket</td>\n",
       "      <td>Ghosh</td>\n",
       "    </tr>\n",
       "  </tbody>\n",
       "</table>\n",
       "</div>"
      ],
      "text/plain": [
       "                          EMAIL        first   last\n",
       "0  dhrubajyotipatra16@gmail.com  Dhrubajyoti  Patra\n",
       "1         shivampatel@gmail.com       Shivam  Patel\n",
       "2           aniketdas@gmail.com       Aniket  Ghosh"
      ]
     },
     "execution_count": 43,
     "metadata": {},
     "output_type": "execute_result"
    }
   ],
   "source": [
    "df_dict"
   ]
  },
  {
   "cell_type": "markdown",
   "id": "b05825b2",
   "metadata": {},
   "source": [
    "## We can use ' at ' in place of ' loc ' "
   ]
  },
  {
   "cell_type": "code",
   "execution_count": 44,
   "id": "bec02d3e",
   "metadata": {},
   "outputs": [],
   "source": [
    "df_dict.at[2,'last'] = \"Das\""
   ]
  },
  {
   "cell_type": "code",
   "execution_count": 45,
   "id": "3c1f7cb8",
   "metadata": {},
   "outputs": [
    {
     "data": {
      "text/html": [
       "<div>\n",
       "<style scoped>\n",
       "    .dataframe tbody tr th:only-of-type {\n",
       "        vertical-align: middle;\n",
       "    }\n",
       "\n",
       "    .dataframe tbody tr th {\n",
       "        vertical-align: top;\n",
       "    }\n",
       "\n",
       "    .dataframe thead th {\n",
       "        text-align: right;\n",
       "    }\n",
       "</style>\n",
       "<table border=\"1\" class=\"dataframe\">\n",
       "  <thead>\n",
       "    <tr style=\"text-align: right;\">\n",
       "      <th></th>\n",
       "      <th>EMAIL</th>\n",
       "      <th>first</th>\n",
       "      <th>last</th>\n",
       "    </tr>\n",
       "  </thead>\n",
       "  <tbody>\n",
       "    <tr>\n",
       "      <th>0</th>\n",
       "      <td>dhrubajyotipatra16@gmail.com</td>\n",
       "      <td>Dhrubajyoti</td>\n",
       "      <td>Patra</td>\n",
       "    </tr>\n",
       "    <tr>\n",
       "      <th>1</th>\n",
       "      <td>shivampatel@gmail.com</td>\n",
       "      <td>Shivam</td>\n",
       "      <td>Patel</td>\n",
       "    </tr>\n",
       "    <tr>\n",
       "      <th>2</th>\n",
       "      <td>aniketdas@gmail.com</td>\n",
       "      <td>Aniket</td>\n",
       "      <td>Das</td>\n",
       "    </tr>\n",
       "  </tbody>\n",
       "</table>\n",
       "</div>"
      ],
      "text/plain": [
       "                          EMAIL        first   last\n",
       "0  dhrubajyotipatra16@gmail.com  Dhrubajyoti  Patra\n",
       "1         shivampatel@gmail.com       Shivam  Patel\n",
       "2           aniketdas@gmail.com       Aniket    Das"
      ]
     },
     "execution_count": 45,
     "metadata": {},
     "output_type": "execute_result"
    }
   ],
   "source": [
    "df_dict"
   ]
  },
  {
   "cell_type": "code",
   "execution_count": 46,
   "id": "1e255e85",
   "metadata": {},
   "outputs": [
    {
     "data": {
      "text/html": [
       "<div>\n",
       "<style scoped>\n",
       "    .dataframe tbody tr th:only-of-type {\n",
       "        vertical-align: middle;\n",
       "    }\n",
       "\n",
       "    .dataframe tbody tr th {\n",
       "        vertical-align: top;\n",
       "    }\n",
       "\n",
       "    .dataframe thead th {\n",
       "        text-align: right;\n",
       "    }\n",
       "</style>\n",
       "<table border=\"1\" class=\"dataframe\">\n",
       "  <thead>\n",
       "    <tr style=\"text-align: right;\">\n",
       "      <th></th>\n",
       "      <th>EMAIL</th>\n",
       "      <th>first</th>\n",
       "      <th>last</th>\n",
       "    </tr>\n",
       "  </thead>\n",
       "  <tbody>\n",
       "    <tr>\n",
       "      <th>2</th>\n",
       "      <td>aniketdas@gmail.com</td>\n",
       "      <td>Aniket</td>\n",
       "      <td>Das</td>\n",
       "    </tr>\n",
       "  </tbody>\n",
       "</table>\n",
       "</div>"
      ],
      "text/plain": [
       "                 EMAIL   first last\n",
       "2  aniketdas@gmail.com  Aniket  Das"
      ]
     },
     "execution_count": 46,
     "metadata": {},
     "output_type": "execute_result"
    }
   ],
   "source": [
    "filt = (df_dict['EMAIL'] == 'aniketdas@gmail.com')\n",
    "df_dict[filt]"
   ]
  },
  {
   "cell_type": "markdown",
   "id": "7131a48d",
   "metadata": {},
   "source": [
    "## We can update any data from the dataframe this way"
   ]
  },
  {
   "cell_type": "code",
   "execution_count": 47,
   "id": "c04a2462",
   "metadata": {},
   "outputs": [],
   "source": [
    "filt = (df_dict['EMAIL'] == 'aniketdas@gmail.com')\n",
    "df_dict.loc[filt,'last'] = 'Ghosh'"
   ]
  },
  {
   "cell_type": "markdown",
   "id": "cda9c680",
   "metadata": {},
   "source": [
    "   ## Converting any values into upper or lower case using string functions"
   ]
  },
  {
   "cell_type": "code",
   "execution_count": 48,
   "id": "e48ed083",
   "metadata": {},
   "outputs": [
    {
     "data": {
      "text/plain": [
       "0    DHRUBAJYOTIPATRA16@GMAIL.COM\n",
       "1           SHIVAMPATEL@GMAIL.COM\n",
       "2             ANIKETDAS@GMAIL.COM\n",
       "Name: EMAIL, dtype: object"
      ]
     },
     "execution_count": 48,
     "metadata": {},
     "output_type": "execute_result"
    }
   ],
   "source": [
    "df_dict['EMAIL'].str.upper()"
   ]
  },
  {
   "cell_type": "markdown",
   "id": "d4ed116f",
   "metadata": {},
   "source": [
    "## This is for changing the value in data frame permanently"
   ]
  },
  {
   "cell_type": "code",
   "execution_count": 49,
   "id": "17243074",
   "metadata": {},
   "outputs": [],
   "source": [
    "df_dict['EMAIL'] = df_dict['EMAIL'].str.lower()"
   ]
  },
  {
   "cell_type": "code",
   "execution_count": 50,
   "id": "6f621db2",
   "metadata": {},
   "outputs": [
    {
     "data": {
      "text/html": [
       "<div>\n",
       "<style scoped>\n",
       "    .dataframe tbody tr th:only-of-type {\n",
       "        vertical-align: middle;\n",
       "    }\n",
       "\n",
       "    .dataframe tbody tr th {\n",
       "        vertical-align: top;\n",
       "    }\n",
       "\n",
       "    .dataframe thead th {\n",
       "        text-align: right;\n",
       "    }\n",
       "</style>\n",
       "<table border=\"1\" class=\"dataframe\">\n",
       "  <thead>\n",
       "    <tr style=\"text-align: right;\">\n",
       "      <th></th>\n",
       "      <th>EMAIL</th>\n",
       "      <th>first</th>\n",
       "      <th>last</th>\n",
       "    </tr>\n",
       "  </thead>\n",
       "  <tbody>\n",
       "    <tr>\n",
       "      <th>0</th>\n",
       "      <td>dhrubajyotipatra16@gmail.com</td>\n",
       "      <td>Dhrubajyoti</td>\n",
       "      <td>Patra</td>\n",
       "    </tr>\n",
       "    <tr>\n",
       "      <th>1</th>\n",
       "      <td>shivampatel@gmail.com</td>\n",
       "      <td>Shivam</td>\n",
       "      <td>Patel</td>\n",
       "    </tr>\n",
       "    <tr>\n",
       "      <th>2</th>\n",
       "      <td>aniketdas@gmail.com</td>\n",
       "      <td>Aniket</td>\n",
       "      <td>Ghosh</td>\n",
       "    </tr>\n",
       "  </tbody>\n",
       "</table>\n",
       "</div>"
      ],
      "text/plain": [
       "                          EMAIL        first   last\n",
       "0  dhrubajyotipatra16@gmail.com  Dhrubajyoti  Patra\n",
       "1         shivampatel@gmail.com       Shivam  Patel\n",
       "2           aniketdas@gmail.com       Aniket  Ghosh"
      ]
     },
     "execution_count": 50,
     "metadata": {},
     "output_type": "execute_result"
    }
   ],
   "source": [
    "df_dict"
   ]
  },
  {
   "cell_type": "markdown",
   "id": "5598507d",
   "metadata": {},
   "source": [
    "## Use of apply, map, applymap, replace in data frames"
   ]
  },
  {
   "cell_type": "code",
   "execution_count": 51,
   "id": "4584e141",
   "metadata": {},
   "outputs": [
    {
     "data": {
      "text/plain": [
       "0    28\n",
       "1    21\n",
       "2    19\n",
       "Name: EMAIL, dtype: int64"
      ]
     },
     "execution_count": 51,
     "metadata": {},
     "output_type": "execute_result"
    }
   ],
   "source": [
    "df_dict['EMAIL'].apply(len)"
   ]
  },
  {
   "cell_type": "markdown",
   "id": "05b86551",
   "metadata": {},
   "source": [
    "## Using function to convert email into uppercase"
   ]
  },
  {
   "cell_type": "code",
   "execution_count": 52,
   "id": "4ec6ad9e",
   "metadata": {},
   "outputs": [],
   "source": [
    "def update_email(EMAIL):\n",
    "    return EMAIL.upper()"
   ]
  },
  {
   "cell_type": "code",
   "execution_count": 53,
   "id": "d6113829",
   "metadata": {},
   "outputs": [
    {
     "data": {
      "text/plain": [
       "0    DHRUBAJYOTIPATRA16@GMAIL.COM\n",
       "1           SHIVAMPATEL@GMAIL.COM\n",
       "2             ANIKETDAS@GMAIL.COM\n",
       "Name: EMAIL, dtype: object"
      ]
     },
     "execution_count": 53,
     "metadata": {},
     "output_type": "execute_result"
    }
   ],
   "source": [
    "df_dict['EMAIL'].apply(update_email)"
   ]
  },
  {
   "cell_type": "markdown",
   "id": "b99c672e",
   "metadata": {},
   "source": [
    "## It does not show length of each values of every row and column"
   ]
  },
  {
   "cell_type": "code",
   "execution_count": 54,
   "id": "1ed964e0",
   "metadata": {},
   "outputs": [
    {
     "data": {
      "text/plain": [
       "EMAIL    3\n",
       "first    3\n",
       "last     3\n",
       "dtype: int64"
      ]
     },
     "execution_count": 54,
     "metadata": {},
     "output_type": "execute_result"
    }
   ],
   "source": [
    "df_dict.apply(len)"
   ]
  },
  {
   "cell_type": "markdown",
   "id": "e0cc5dc1",
   "metadata": {},
   "source": [
    "## pd.series.min makes more sense in numerical because it shows the min value of every column"
   ]
  },
  {
   "cell_type": "code",
   "execution_count": 55,
   "id": "f34a31d5",
   "metadata": {},
   "outputs": [
    {
     "data": {
      "text/plain": [
       "EMAIL    aniketdas@gmail.com\n",
       "first                 Aniket\n",
       "last                   Ghosh\n",
       "dtype: object"
      ]
     },
     "execution_count": 55,
     "metadata": {},
     "output_type": "execute_result"
    }
   ],
   "source": [
    "df_dict.apply(pd.Series.min)"
   ]
  },
  {
   "cell_type": "markdown",
   "id": "274a630c",
   "metadata": {},
   "source": [
    "## ' Applymap' is used for applying function to every single values of the data frame"
   ]
  },
  {
   "cell_type": "markdown",
   "id": "d90001ec",
   "metadata": {},
   "source": [
    "## like using ' len ' function to every values to get its length"
   ]
  },
  {
   "cell_type": "code",
   "execution_count": 56,
   "id": "05bc1e23",
   "metadata": {},
   "outputs": [
    {
     "data": {
      "text/html": [
       "<div>\n",
       "<style scoped>\n",
       "    .dataframe tbody tr th:only-of-type {\n",
       "        vertical-align: middle;\n",
       "    }\n",
       "\n",
       "    .dataframe tbody tr th {\n",
       "        vertical-align: top;\n",
       "    }\n",
       "\n",
       "    .dataframe thead th {\n",
       "        text-align: right;\n",
       "    }\n",
       "</style>\n",
       "<table border=\"1\" class=\"dataframe\">\n",
       "  <thead>\n",
       "    <tr style=\"text-align: right;\">\n",
       "      <th></th>\n",
       "      <th>EMAIL</th>\n",
       "      <th>first</th>\n",
       "      <th>last</th>\n",
       "    </tr>\n",
       "  </thead>\n",
       "  <tbody>\n",
       "    <tr>\n",
       "      <th>0</th>\n",
       "      <td>28</td>\n",
       "      <td>11</td>\n",
       "      <td>5</td>\n",
       "    </tr>\n",
       "    <tr>\n",
       "      <th>1</th>\n",
       "      <td>21</td>\n",
       "      <td>6</td>\n",
       "      <td>5</td>\n",
       "    </tr>\n",
       "    <tr>\n",
       "      <th>2</th>\n",
       "      <td>19</td>\n",
       "      <td>6</td>\n",
       "      <td>5</td>\n",
       "    </tr>\n",
       "  </tbody>\n",
       "</table>\n",
       "</div>"
      ],
      "text/plain": [
       "   EMAIL  first  last\n",
       "0     28     11     5\n",
       "1     21      6     5\n",
       "2     19      6     5"
      ]
     },
     "execution_count": 56,
     "metadata": {},
     "output_type": "execute_result"
    }
   ],
   "source": [
    "df_dict.applymap(len)"
   ]
  },
  {
   "cell_type": "code",
   "execution_count": 57,
   "id": "74297a84",
   "metadata": {},
   "outputs": [
    {
     "data": {
      "text/html": [
       "<div>\n",
       "<style scoped>\n",
       "    .dataframe tbody tr th:only-of-type {\n",
       "        vertical-align: middle;\n",
       "    }\n",
       "\n",
       "    .dataframe tbody tr th {\n",
       "        vertical-align: top;\n",
       "    }\n",
       "\n",
       "    .dataframe thead th {\n",
       "        text-align: right;\n",
       "    }\n",
       "</style>\n",
       "<table border=\"1\" class=\"dataframe\">\n",
       "  <thead>\n",
       "    <tr style=\"text-align: right;\">\n",
       "      <th></th>\n",
       "      <th>EMAIL</th>\n",
       "      <th>first</th>\n",
       "      <th>last</th>\n",
       "    </tr>\n",
       "  </thead>\n",
       "  <tbody>\n",
       "    <tr>\n",
       "      <th>0</th>\n",
       "      <td>DHRUBAJYOTIPATRA16@GMAIL.COM</td>\n",
       "      <td>DHRUBAJYOTI</td>\n",
       "      <td>PATRA</td>\n",
       "    </tr>\n",
       "    <tr>\n",
       "      <th>1</th>\n",
       "      <td>SHIVAMPATEL@GMAIL.COM</td>\n",
       "      <td>SHIVAM</td>\n",
       "      <td>PATEL</td>\n",
       "    </tr>\n",
       "    <tr>\n",
       "      <th>2</th>\n",
       "      <td>ANIKETDAS@GMAIL.COM</td>\n",
       "      <td>ANIKET</td>\n",
       "      <td>GHOSH</td>\n",
       "    </tr>\n",
       "  </tbody>\n",
       "</table>\n",
       "</div>"
      ],
      "text/plain": [
       "                          EMAIL        first   last\n",
       "0  DHRUBAJYOTIPATRA16@GMAIL.COM  DHRUBAJYOTI  PATRA\n",
       "1         SHIVAMPATEL@GMAIL.COM       SHIVAM  PATEL\n",
       "2           ANIKETDAS@GMAIL.COM       ANIKET  GHOSH"
      ]
     },
     "execution_count": 57,
     "metadata": {},
     "output_type": "execute_result"
    }
   ],
   "source": [
    "df_dict.applymap(str.upper)"
   ]
  },
  {
   "cell_type": "markdown",
   "id": "19c187de",
   "metadata": {},
   "source": [
    "## ' Map ' is used for series ( ' EMAIL ' ,' first ', ' last ')"
   ]
  },
  {
   "cell_type": "code",
   "execution_count": 58,
   "id": "81c8ae6c",
   "metadata": {},
   "outputs": [
    {
     "data": {
      "text/plain": [
       "0    Dhrubo\n",
       "1      Shiv\n",
       "2       NaN\n",
       "Name: first, dtype: object"
      ]
     },
     "execution_count": 58,
     "metadata": {},
     "output_type": "execute_result"
    }
   ],
   "source": [
    "df_dict['first'].map({'Dhrubajyoti': 'Dhrubo', 'Shivam' : 'Shiv'})"
   ]
  },
  {
   "cell_type": "markdown",
   "id": "2e23ebb7",
   "metadata": {},
   "source": [
    "## In ' Map ' the values we did not modify automatically converted into ' Nan '"
   ]
  },
  {
   "cell_type": "markdown",
   "id": "806b24dc",
   "metadata": {},
   "source": [
    "## By this way we can combine two columns"
   ]
  },
  {
   "cell_type": "code",
   "execution_count": 59,
   "id": "d2a20220",
   "metadata": {},
   "outputs": [],
   "source": [
    "df_dict['Full_name'] = df_dict['first'] + ' ' + df_dict['last']"
   ]
  },
  {
   "cell_type": "code",
   "execution_count": 60,
   "id": "e7091135",
   "metadata": {},
   "outputs": [
    {
     "data": {
      "text/html": [
       "<div>\n",
       "<style scoped>\n",
       "    .dataframe tbody tr th:only-of-type {\n",
       "        vertical-align: middle;\n",
       "    }\n",
       "\n",
       "    .dataframe tbody tr th {\n",
       "        vertical-align: top;\n",
       "    }\n",
       "\n",
       "    .dataframe thead th {\n",
       "        text-align: right;\n",
       "    }\n",
       "</style>\n",
       "<table border=\"1\" class=\"dataframe\">\n",
       "  <thead>\n",
       "    <tr style=\"text-align: right;\">\n",
       "      <th></th>\n",
       "      <th>EMAIL</th>\n",
       "      <th>first</th>\n",
       "      <th>last</th>\n",
       "      <th>Full_name</th>\n",
       "    </tr>\n",
       "  </thead>\n",
       "  <tbody>\n",
       "    <tr>\n",
       "      <th>0</th>\n",
       "      <td>dhrubajyotipatra16@gmail.com</td>\n",
       "      <td>Dhrubajyoti</td>\n",
       "      <td>Patra</td>\n",
       "      <td>Dhrubajyoti Patra</td>\n",
       "    </tr>\n",
       "    <tr>\n",
       "      <th>1</th>\n",
       "      <td>shivampatel@gmail.com</td>\n",
       "      <td>Shivam</td>\n",
       "      <td>Patel</td>\n",
       "      <td>Shivam Patel</td>\n",
       "    </tr>\n",
       "    <tr>\n",
       "      <th>2</th>\n",
       "      <td>aniketdas@gmail.com</td>\n",
       "      <td>Aniket</td>\n",
       "      <td>Ghosh</td>\n",
       "      <td>Aniket Ghosh</td>\n",
       "    </tr>\n",
       "  </tbody>\n",
       "</table>\n",
       "</div>"
      ],
      "text/plain": [
       "                          EMAIL        first   last          Full_name\n",
       "0  dhrubajyotipatra16@gmail.com  Dhrubajyoti  Patra  Dhrubajyoti Patra\n",
       "1         shivampatel@gmail.com       Shivam  Patel       Shivam Patel\n",
       "2           aniketdas@gmail.com       Aniket  Ghosh       Aniket Ghosh"
      ]
     },
     "execution_count": 60,
     "metadata": {},
     "output_type": "execute_result"
    }
   ],
   "source": [
    "df_dict"
   ]
  },
  {
   "cell_type": "markdown",
   "id": "91eda519",
   "metadata": {},
   "source": [
    "## Removing columns from the dataframe"
   ]
  },
  {
   "cell_type": "markdown",
   "id": "5b0b048f",
   "metadata": {},
   "source": [
    "## ' inplace true = '"
   ]
  },
  {
   "cell_type": "code",
   "execution_count": 61,
   "id": "a76b200f",
   "metadata": {},
   "outputs": [
    {
     "data": {
      "text/html": [
       "<div>\n",
       "<style scoped>\n",
       "    .dataframe tbody tr th:only-of-type {\n",
       "        vertical-align: middle;\n",
       "    }\n",
       "\n",
       "    .dataframe tbody tr th {\n",
       "        vertical-align: top;\n",
       "    }\n",
       "\n",
       "    .dataframe thead th {\n",
       "        text-align: right;\n",
       "    }\n",
       "</style>\n",
       "<table border=\"1\" class=\"dataframe\">\n",
       "  <thead>\n",
       "    <tr style=\"text-align: right;\">\n",
       "      <th></th>\n",
       "      <th>EMAIL</th>\n",
       "      <th>Full_name</th>\n",
       "    </tr>\n",
       "  </thead>\n",
       "  <tbody>\n",
       "    <tr>\n",
       "      <th>0</th>\n",
       "      <td>dhrubajyotipatra16@gmail.com</td>\n",
       "      <td>Dhrubajyoti Patra</td>\n",
       "    </tr>\n",
       "    <tr>\n",
       "      <th>1</th>\n",
       "      <td>shivampatel@gmail.com</td>\n",
       "      <td>Shivam Patel</td>\n",
       "    </tr>\n",
       "    <tr>\n",
       "      <th>2</th>\n",
       "      <td>aniketdas@gmail.com</td>\n",
       "      <td>Aniket Ghosh</td>\n",
       "    </tr>\n",
       "  </tbody>\n",
       "</table>\n",
       "</div>"
      ],
      "text/plain": [
       "                          EMAIL          Full_name\n",
       "0  dhrubajyotipatra16@gmail.com  Dhrubajyoti Patra\n",
       "1         shivampatel@gmail.com       Shivam Patel\n",
       "2           aniketdas@gmail.com       Aniket Ghosh"
      ]
     },
     "execution_count": 61,
     "metadata": {},
     "output_type": "execute_result"
    }
   ],
   "source": [
    "df_dict.drop(columns = ['first','last'])"
   ]
  },
  {
   "cell_type": "code",
   "execution_count": 62,
   "id": "490b23cd",
   "metadata": {},
   "outputs": [
    {
     "data": {
      "text/html": [
       "<div>\n",
       "<style scoped>\n",
       "    .dataframe tbody tr th:only-of-type {\n",
       "        vertical-align: middle;\n",
       "    }\n",
       "\n",
       "    .dataframe tbody tr th {\n",
       "        vertical-align: top;\n",
       "    }\n",
       "\n",
       "    .dataframe thead th {\n",
       "        text-align: right;\n",
       "    }\n",
       "</style>\n",
       "<table border=\"1\" class=\"dataframe\">\n",
       "  <thead>\n",
       "    <tr style=\"text-align: right;\">\n",
       "      <th></th>\n",
       "      <th>EMAIL</th>\n",
       "      <th>first</th>\n",
       "      <th>last</th>\n",
       "      <th>Full_name</th>\n",
       "    </tr>\n",
       "  </thead>\n",
       "  <tbody>\n",
       "    <tr>\n",
       "      <th>0</th>\n",
       "      <td>dhrubajyotipatra16@gmail.com</td>\n",
       "      <td>Dhrubajyoti</td>\n",
       "      <td>Patra</td>\n",
       "      <td>Dhrubajyoti Patra</td>\n",
       "    </tr>\n",
       "    <tr>\n",
       "      <th>1</th>\n",
       "      <td>shivampatel@gmail.com</td>\n",
       "      <td>Shivam</td>\n",
       "      <td>Patel</td>\n",
       "      <td>Shivam Patel</td>\n",
       "    </tr>\n",
       "    <tr>\n",
       "      <th>2</th>\n",
       "      <td>aniketdas@gmail.com</td>\n",
       "      <td>Aniket</td>\n",
       "      <td>Ghosh</td>\n",
       "      <td>Aniket Ghosh</td>\n",
       "    </tr>\n",
       "  </tbody>\n",
       "</table>\n",
       "</div>"
      ],
      "text/plain": [
       "                          EMAIL        first   last          Full_name\n",
       "0  dhrubajyotipatra16@gmail.com  Dhrubajyoti  Patra  Dhrubajyoti Patra\n",
       "1         shivampatel@gmail.com       Shivam  Patel       Shivam Patel\n",
       "2           aniketdas@gmail.com       Aniket  Ghosh       Aniket Ghosh"
      ]
     },
     "execution_count": 62,
     "metadata": {},
     "output_type": "execute_result"
    }
   ],
   "source": [
    "df_dict"
   ]
  },
  {
   "cell_type": "markdown",
   "id": "1406d4b8",
   "metadata": {},
   "source": [
    "## Wrong syntax for append"
   ]
  },
  {
   "cell_type": "code",
   "execution_count": 63,
   "id": "67080e50",
   "metadata": {},
   "outputs": [
    {
     "data": {
      "text/html": [
       "<div>\n",
       "<style scoped>\n",
       "    .dataframe tbody tr th:only-of-type {\n",
       "        vertical-align: middle;\n",
       "    }\n",
       "\n",
       "    .dataframe tbody tr th {\n",
       "        vertical-align: top;\n",
       "    }\n",
       "\n",
       "    .dataframe thead th {\n",
       "        text-align: right;\n",
       "    }\n",
       "</style>\n",
       "<table border=\"1\" class=\"dataframe\">\n",
       "  <thead>\n",
       "    <tr style=\"text-align: right;\">\n",
       "      <th></th>\n",
       "      <th>EMAIL</th>\n",
       "      <th>first</th>\n",
       "      <th>last</th>\n",
       "      <th>Full_name</th>\n",
       "    </tr>\n",
       "  </thead>\n",
       "  <tbody>\n",
       "    <tr>\n",
       "      <th>0</th>\n",
       "      <td>dhrubajyotipatra16@gmail.com</td>\n",
       "      <td>Dhrubajyoti</td>\n",
       "      <td>Patra</td>\n",
       "      <td>Dhrubajyoti Patra</td>\n",
       "    </tr>\n",
       "    <tr>\n",
       "      <th>1</th>\n",
       "      <td>shivampatel@gmail.com</td>\n",
       "      <td>Shivam</td>\n",
       "      <td>Patel</td>\n",
       "      <td>Shivam Patel</td>\n",
       "    </tr>\n",
       "    <tr>\n",
       "      <th>2</th>\n",
       "      <td>aniketdas@gmail.com</td>\n",
       "      <td>Aniket</td>\n",
       "      <td>Ghosh</td>\n",
       "      <td>Aniket Ghosh</td>\n",
       "    </tr>\n",
       "    <tr>\n",
       "      <th>3</th>\n",
       "      <td>NaN</td>\n",
       "      <td>Tony</td>\n",
       "      <td>NaN</td>\n",
       "      <td>NaN</td>\n",
       "    </tr>\n",
       "  </tbody>\n",
       "</table>\n",
       "</div>"
      ],
      "text/plain": [
       "                          EMAIL        first   last          Full_name\n",
       "0  dhrubajyotipatra16@gmail.com  Dhrubajyoti  Patra  Dhrubajyoti Patra\n",
       "1         shivampatel@gmail.com       Shivam  Patel       Shivam Patel\n",
       "2           aniketdas@gmail.com       Aniket  Ghosh       Aniket Ghosh\n",
       "3                           NaN         Tony    NaN                NaN"
      ]
     },
     "execution_count": 63,
     "metadata": {},
     "output_type": "execute_result"
    }
   ],
   "source": [
    "df_dict.append({'first' : 'Tony'}, ignore_index = True)"
   ]
  },
  {
   "cell_type": "code",
   "execution_count": 64,
   "id": "32a9829d",
   "metadata": {},
   "outputs": [],
   "source": [
    "people = {\n",
    "    'first' : ['Tony','Steve'],\n",
    "    'last': ['Stark','Rogers'],\n",
    "    'EMAIL' : ['ironman@avenge.com','cap@avenge.com']\n",
    "}\n",
    "\n",
    "df_dict2 = pd.DataFrame(people)"
   ]
  },
  {
   "cell_type": "code",
   "execution_count": 65,
   "id": "79ffe595",
   "metadata": {},
   "outputs": [
    {
     "data": {
      "text/html": [
       "<div>\n",
       "<style scoped>\n",
       "    .dataframe tbody tr th:only-of-type {\n",
       "        vertical-align: middle;\n",
       "    }\n",
       "\n",
       "    .dataframe tbody tr th {\n",
       "        vertical-align: top;\n",
       "    }\n",
       "\n",
       "    .dataframe thead th {\n",
       "        text-align: right;\n",
       "    }\n",
       "</style>\n",
       "<table border=\"1\" class=\"dataframe\">\n",
       "  <thead>\n",
       "    <tr style=\"text-align: right;\">\n",
       "      <th></th>\n",
       "      <th>first</th>\n",
       "      <th>last</th>\n",
       "      <th>EMAIL</th>\n",
       "    </tr>\n",
       "  </thead>\n",
       "  <tbody>\n",
       "    <tr>\n",
       "      <th>0</th>\n",
       "      <td>Tony</td>\n",
       "      <td>Stark</td>\n",
       "      <td>ironman@avenge.com</td>\n",
       "    </tr>\n",
       "    <tr>\n",
       "      <th>1</th>\n",
       "      <td>Steve</td>\n",
       "      <td>Rogers</td>\n",
       "      <td>cap@avenge.com</td>\n",
       "    </tr>\n",
       "  </tbody>\n",
       "</table>\n",
       "</div>"
      ],
      "text/plain": [
       "   first    last               EMAIL\n",
       "0   Tony   Stark  ironman@avenge.com\n",
       "1  Steve  Rogers      cap@avenge.com"
      ]
     },
     "execution_count": 65,
     "metadata": {},
     "output_type": "execute_result"
    }
   ],
   "source": [
    "df_dict2"
   ]
  },
  {
   "cell_type": "markdown",
   "id": "9656c6b9",
   "metadata": {},
   "source": [
    "## Right syntax for append in data frame"
   ]
  },
  {
   "cell_type": "code",
   "execution_count": 66,
   "id": "2b2ff8b4",
   "metadata": {},
   "outputs": [
    {
     "data": {
      "text/html": [
       "<div>\n",
       "<style scoped>\n",
       "    .dataframe tbody tr th:only-of-type {\n",
       "        vertical-align: middle;\n",
       "    }\n",
       "\n",
       "    .dataframe tbody tr th {\n",
       "        vertical-align: top;\n",
       "    }\n",
       "\n",
       "    .dataframe thead th {\n",
       "        text-align: right;\n",
       "    }\n",
       "</style>\n",
       "<table border=\"1\" class=\"dataframe\">\n",
       "  <thead>\n",
       "    <tr style=\"text-align: right;\">\n",
       "      <th></th>\n",
       "      <th>EMAIL</th>\n",
       "      <th>first</th>\n",
       "      <th>last</th>\n",
       "      <th>Full_name</th>\n",
       "    </tr>\n",
       "  </thead>\n",
       "  <tbody>\n",
       "    <tr>\n",
       "      <th>0</th>\n",
       "      <td>dhrubajyotipatra16@gmail.com</td>\n",
       "      <td>Dhrubajyoti</td>\n",
       "      <td>Patra</td>\n",
       "      <td>Dhrubajyoti Patra</td>\n",
       "    </tr>\n",
       "    <tr>\n",
       "      <th>1</th>\n",
       "      <td>shivampatel@gmail.com</td>\n",
       "      <td>Shivam</td>\n",
       "      <td>Patel</td>\n",
       "      <td>Shivam Patel</td>\n",
       "    </tr>\n",
       "    <tr>\n",
       "      <th>2</th>\n",
       "      <td>aniketdas@gmail.com</td>\n",
       "      <td>Aniket</td>\n",
       "      <td>Ghosh</td>\n",
       "      <td>Aniket Ghosh</td>\n",
       "    </tr>\n",
       "    <tr>\n",
       "      <th>3</th>\n",
       "      <td>ironman@avenge.com</td>\n",
       "      <td>Tony</td>\n",
       "      <td>Stark</td>\n",
       "      <td>NaN</td>\n",
       "    </tr>\n",
       "    <tr>\n",
       "      <th>4</th>\n",
       "      <td>cap@avenge.com</td>\n",
       "      <td>Steve</td>\n",
       "      <td>Rogers</td>\n",
       "      <td>NaN</td>\n",
       "    </tr>\n",
       "  </tbody>\n",
       "</table>\n",
       "</div>"
      ],
      "text/plain": [
       "                          EMAIL        first    last          Full_name\n",
       "0  dhrubajyotipatra16@gmail.com  Dhrubajyoti   Patra  Dhrubajyoti Patra\n",
       "1         shivampatel@gmail.com       Shivam   Patel       Shivam Patel\n",
       "2           aniketdas@gmail.com       Aniket   Ghosh       Aniket Ghosh\n",
       "3            ironman@avenge.com         Tony   Stark                NaN\n",
       "4                cap@avenge.com        Steve  Rogers                NaN"
      ]
     },
     "execution_count": 66,
     "metadata": {},
     "output_type": "execute_result"
    }
   ],
   "source": [
    "df_dict = df_dict.append(df_dict2,ignore_index=True)\n",
    "df_dict"
   ]
  },
  {
   "cell_type": "markdown",
   "id": "6bf9ee9f",
   "metadata": {},
   "source": [
    "## Dropping a particular data from dataframe"
   ]
  },
  {
   "cell_type": "code",
   "execution_count": 67,
   "id": "ce6ce764",
   "metadata": {},
   "outputs": [
    {
     "data": {
      "text/html": [
       "<div>\n",
       "<style scoped>\n",
       "    .dataframe tbody tr th:only-of-type {\n",
       "        vertical-align: middle;\n",
       "    }\n",
       "\n",
       "    .dataframe tbody tr th {\n",
       "        vertical-align: top;\n",
       "    }\n",
       "\n",
       "    .dataframe thead th {\n",
       "        text-align: right;\n",
       "    }\n",
       "</style>\n",
       "<table border=\"1\" class=\"dataframe\">\n",
       "  <thead>\n",
       "    <tr style=\"text-align: right;\">\n",
       "      <th></th>\n",
       "      <th>EMAIL</th>\n",
       "      <th>first</th>\n",
       "      <th>last</th>\n",
       "      <th>Full_name</th>\n",
       "    </tr>\n",
       "  </thead>\n",
       "  <tbody>\n",
       "    <tr>\n",
       "      <th>0</th>\n",
       "      <td>dhrubajyotipatra16@gmail.com</td>\n",
       "      <td>Dhrubajyoti</td>\n",
       "      <td>Patra</td>\n",
       "      <td>Dhrubajyoti Patra</td>\n",
       "    </tr>\n",
       "    <tr>\n",
       "      <th>1</th>\n",
       "      <td>shivampatel@gmail.com</td>\n",
       "      <td>Shivam</td>\n",
       "      <td>Patel</td>\n",
       "      <td>Shivam Patel</td>\n",
       "    </tr>\n",
       "    <tr>\n",
       "      <th>2</th>\n",
       "      <td>aniketdas@gmail.com</td>\n",
       "      <td>Aniket</td>\n",
       "      <td>Ghosh</td>\n",
       "      <td>Aniket Ghosh</td>\n",
       "    </tr>\n",
       "    <tr>\n",
       "      <th>3</th>\n",
       "      <td>ironman@avenge.com</td>\n",
       "      <td>Tony</td>\n",
       "      <td>Stark</td>\n",
       "      <td>NaN</td>\n",
       "    </tr>\n",
       "  </tbody>\n",
       "</table>\n",
       "</div>"
      ],
      "text/plain": [
       "                          EMAIL        first   last          Full_name\n",
       "0  dhrubajyotipatra16@gmail.com  Dhrubajyoti  Patra  Dhrubajyoti Patra\n",
       "1         shivampatel@gmail.com       Shivam  Patel       Shivam Patel\n",
       "2           aniketdas@gmail.com       Aniket  Ghosh       Aniket Ghosh\n",
       "3            ironman@avenge.com         Tony  Stark                NaN"
      ]
     },
     "execution_count": 67,
     "metadata": {},
     "output_type": "execute_result"
    }
   ],
   "source": [
    "df_dict.drop(index=4)"
   ]
  },
  {
   "cell_type": "code",
   "execution_count": 68,
   "id": "fdc1aba1",
   "metadata": {},
   "outputs": [],
   "source": [
    "filt = df_dict['last'] == 'patel'\n"
   ]
  },
  {
   "cell_type": "markdown",
   "id": "1b6433c1",
   "metadata": {},
   "source": [
    "## Sorting Data"
   ]
  },
  {
   "cell_type": "markdown",
   "id": "c0726d4c",
   "metadata": {},
   "source": [
    "## sorting is happening in ascii values"
   ]
  },
  {
   "cell_type": "code",
   "execution_count": 69,
   "id": "950b3fe2",
   "metadata": {},
   "outputs": [
    {
     "data": {
      "text/html": [
       "<div>\n",
       "<style scoped>\n",
       "    .dataframe tbody tr th:only-of-type {\n",
       "        vertical-align: middle;\n",
       "    }\n",
       "\n",
       "    .dataframe tbody tr th {\n",
       "        vertical-align: top;\n",
       "    }\n",
       "\n",
       "    .dataframe thead th {\n",
       "        text-align: right;\n",
       "    }\n",
       "</style>\n",
       "<table border=\"1\" class=\"dataframe\">\n",
       "  <thead>\n",
       "    <tr style=\"text-align: right;\">\n",
       "      <th></th>\n",
       "      <th>EMAIL</th>\n",
       "      <th>first</th>\n",
       "      <th>last</th>\n",
       "      <th>Full_name</th>\n",
       "    </tr>\n",
       "  </thead>\n",
       "  <tbody>\n",
       "    <tr>\n",
       "      <th>2</th>\n",
       "      <td>aniketdas@gmail.com</td>\n",
       "      <td>Aniket</td>\n",
       "      <td>Ghosh</td>\n",
       "      <td>Aniket Ghosh</td>\n",
       "    </tr>\n",
       "    <tr>\n",
       "      <th>1</th>\n",
       "      <td>shivampatel@gmail.com</td>\n",
       "      <td>Shivam</td>\n",
       "      <td>Patel</td>\n",
       "      <td>Shivam Patel</td>\n",
       "    </tr>\n",
       "    <tr>\n",
       "      <th>0</th>\n",
       "      <td>dhrubajyotipatra16@gmail.com</td>\n",
       "      <td>Dhrubajyoti</td>\n",
       "      <td>Patra</td>\n",
       "      <td>Dhrubajyoti Patra</td>\n",
       "    </tr>\n",
       "    <tr>\n",
       "      <th>4</th>\n",
       "      <td>cap@avenge.com</td>\n",
       "      <td>Steve</td>\n",
       "      <td>Rogers</td>\n",
       "      <td>NaN</td>\n",
       "    </tr>\n",
       "    <tr>\n",
       "      <th>3</th>\n",
       "      <td>ironman@avenge.com</td>\n",
       "      <td>Tony</td>\n",
       "      <td>Stark</td>\n",
       "      <td>NaN</td>\n",
       "    </tr>\n",
       "  </tbody>\n",
       "</table>\n",
       "</div>"
      ],
      "text/plain": [
       "                          EMAIL        first    last          Full_name\n",
       "2           aniketdas@gmail.com       Aniket   Ghosh       Aniket Ghosh\n",
       "1         shivampatel@gmail.com       Shivam   Patel       Shivam Patel\n",
       "0  dhrubajyotipatra16@gmail.com  Dhrubajyoti   Patra  Dhrubajyoti Patra\n",
       "4                cap@avenge.com        Steve  Rogers                NaN\n",
       "3            ironman@avenge.com         Tony   Stark                NaN"
      ]
     },
     "execution_count": 69,
     "metadata": {},
     "output_type": "execute_result"
    }
   ],
   "source": [
    "df_dict.sort_values(by='last', ascending = True)      "
   ]
  },
  {
   "cell_type": "code",
   "execution_count": 70,
   "id": "66206773",
   "metadata": {},
   "outputs": [
    {
     "data": {
      "text/html": [
       "<div>\n",
       "<style scoped>\n",
       "    .dataframe tbody tr th:only-of-type {\n",
       "        vertical-align: middle;\n",
       "    }\n",
       "\n",
       "    .dataframe tbody tr th {\n",
       "        vertical-align: top;\n",
       "    }\n",
       "\n",
       "    .dataframe thead th {\n",
       "        text-align: right;\n",
       "    }\n",
       "</style>\n",
       "<table border=\"1\" class=\"dataframe\">\n",
       "  <thead>\n",
       "    <tr style=\"text-align: right;\">\n",
       "      <th></th>\n",
       "      <th>EMAIL</th>\n",
       "      <th>first</th>\n",
       "      <th>last</th>\n",
       "      <th>Full_name</th>\n",
       "    </tr>\n",
       "  </thead>\n",
       "  <tbody>\n",
       "    <tr>\n",
       "      <th>2</th>\n",
       "      <td>aniketdas@gmail.com</td>\n",
       "      <td>Aniket</td>\n",
       "      <td>Ghosh</td>\n",
       "      <td>Aniket Ghosh</td>\n",
       "    </tr>\n",
       "    <tr>\n",
       "      <th>1</th>\n",
       "      <td>shivampatel@gmail.com</td>\n",
       "      <td>Shivam</td>\n",
       "      <td>Patel</td>\n",
       "      <td>Shivam Patel</td>\n",
       "    </tr>\n",
       "    <tr>\n",
       "      <th>0</th>\n",
       "      <td>dhrubajyotipatra16@gmail.com</td>\n",
       "      <td>Dhrubajyoti</td>\n",
       "      <td>Patra</td>\n",
       "      <td>Dhrubajyoti Patra</td>\n",
       "    </tr>\n",
       "    <tr>\n",
       "      <th>4</th>\n",
       "      <td>cap@avenge.com</td>\n",
       "      <td>Steve</td>\n",
       "      <td>Rogers</td>\n",
       "      <td>NaN</td>\n",
       "    </tr>\n",
       "    <tr>\n",
       "      <th>3</th>\n",
       "      <td>ironman@avenge.com</td>\n",
       "      <td>Tony</td>\n",
       "      <td>Stark</td>\n",
       "      <td>NaN</td>\n",
       "    </tr>\n",
       "  </tbody>\n",
       "</table>\n",
       "</div>"
      ],
      "text/plain": [
       "                          EMAIL        first    last          Full_name\n",
       "2           aniketdas@gmail.com       Aniket   Ghosh       Aniket Ghosh\n",
       "1         shivampatel@gmail.com       Shivam   Patel       Shivam Patel\n",
       "0  dhrubajyotipatra16@gmail.com  Dhrubajyoti   Patra  Dhrubajyoti Patra\n",
       "4                cap@avenge.com        Steve  Rogers                NaN\n",
       "3            ironman@avenge.com         Tony   Stark                NaN"
      ]
     },
     "execution_count": 70,
     "metadata": {},
     "output_type": "execute_result"
    }
   ],
   "source": [
    "df_dict.sort_values(by=['last','first'], ascending = True) "
   ]
  },
  {
   "cell_type": "code",
   "execution_count": 71,
   "id": "6493d30d",
   "metadata": {},
   "outputs": [
    {
     "data": {
      "text/html": [
       "<div>\n",
       "<style scoped>\n",
       "    .dataframe tbody tr th:only-of-type {\n",
       "        vertical-align: middle;\n",
       "    }\n",
       "\n",
       "    .dataframe tbody tr th {\n",
       "        vertical-align: top;\n",
       "    }\n",
       "\n",
       "    .dataframe thead th {\n",
       "        text-align: right;\n",
       "    }\n",
       "</style>\n",
       "<table border=\"1\" class=\"dataframe\">\n",
       "  <thead>\n",
       "    <tr style=\"text-align: right;\">\n",
       "      <th></th>\n",
       "      <th>EMAIL</th>\n",
       "      <th>first</th>\n",
       "      <th>last</th>\n",
       "      <th>Full_name</th>\n",
       "    </tr>\n",
       "  </thead>\n",
       "  <tbody>\n",
       "    <tr>\n",
       "      <th>2</th>\n",
       "      <td>aniketdas@gmail.com</td>\n",
       "      <td>Aniket</td>\n",
       "      <td>Ghosh</td>\n",
       "      <td>Aniket Ghosh</td>\n",
       "    </tr>\n",
       "    <tr>\n",
       "      <th>1</th>\n",
       "      <td>shivampatel@gmail.com</td>\n",
       "      <td>Shivam</td>\n",
       "      <td>Patel</td>\n",
       "      <td>Shivam Patel</td>\n",
       "    </tr>\n",
       "    <tr>\n",
       "      <th>0</th>\n",
       "      <td>dhrubajyotipatra16@gmail.com</td>\n",
       "      <td>Dhrubajyoti</td>\n",
       "      <td>Patra</td>\n",
       "      <td>Dhrubajyoti Patra</td>\n",
       "    </tr>\n",
       "    <tr>\n",
       "      <th>4</th>\n",
       "      <td>cap@avenge.com</td>\n",
       "      <td>Steve</td>\n",
       "      <td>Rogers</td>\n",
       "      <td>NaN</td>\n",
       "    </tr>\n",
       "    <tr>\n",
       "      <th>3</th>\n",
       "      <td>ironman@avenge.com</td>\n",
       "      <td>Tony</td>\n",
       "      <td>Stark</td>\n",
       "      <td>NaN</td>\n",
       "    </tr>\n",
       "  </tbody>\n",
       "</table>\n",
       "</div>"
      ],
      "text/plain": [
       "                          EMAIL        first    last          Full_name\n",
       "2           aniketdas@gmail.com       Aniket   Ghosh       Aniket Ghosh\n",
       "1         shivampatel@gmail.com       Shivam   Patel       Shivam Patel\n",
       "0  dhrubajyotipatra16@gmail.com  Dhrubajyoti   Patra  Dhrubajyoti Patra\n",
       "4                cap@avenge.com        Steve  Rogers                NaN\n",
       "3            ironman@avenge.com         Tony   Stark                NaN"
      ]
     },
     "execution_count": 71,
     "metadata": {},
     "output_type": "execute_result"
    }
   ],
   "source": [
    "df_dict.sort_values(by=['last','first'], ascending = [True,False]) "
   ]
  },
  {
   "cell_type": "code",
   "execution_count": 72,
   "id": "7fc357c4",
   "metadata": {},
   "outputs": [
    {
     "data": {
      "text/html": [
       "<div>\n",
       "<style scoped>\n",
       "    .dataframe tbody tr th:only-of-type {\n",
       "        vertical-align: middle;\n",
       "    }\n",
       "\n",
       "    .dataframe tbody tr th {\n",
       "        vertical-align: top;\n",
       "    }\n",
       "\n",
       "    .dataframe thead th {\n",
       "        text-align: right;\n",
       "    }\n",
       "</style>\n",
       "<table border=\"1\" class=\"dataframe\">\n",
       "  <thead>\n",
       "    <tr style=\"text-align: right;\">\n",
       "      <th></th>\n",
       "      <th>EMAIL</th>\n",
       "      <th>first</th>\n",
       "      <th>last</th>\n",
       "      <th>Full_name</th>\n",
       "    </tr>\n",
       "  </thead>\n",
       "  <tbody>\n",
       "    <tr>\n",
       "      <th>0</th>\n",
       "      <td>dhrubajyotipatra16@gmail.com</td>\n",
       "      <td>Dhrubajyoti</td>\n",
       "      <td>Patra</td>\n",
       "      <td>Dhrubajyoti Patra</td>\n",
       "    </tr>\n",
       "    <tr>\n",
       "      <th>1</th>\n",
       "      <td>shivampatel@gmail.com</td>\n",
       "      <td>Shivam</td>\n",
       "      <td>Patel</td>\n",
       "      <td>Shivam Patel</td>\n",
       "    </tr>\n",
       "    <tr>\n",
       "      <th>2</th>\n",
       "      <td>aniketdas@gmail.com</td>\n",
       "      <td>Aniket</td>\n",
       "      <td>Ghosh</td>\n",
       "      <td>Aniket Ghosh</td>\n",
       "    </tr>\n",
       "    <tr>\n",
       "      <th>3</th>\n",
       "      <td>ironman@avenge.com</td>\n",
       "      <td>Tony</td>\n",
       "      <td>Stark</td>\n",
       "      <td>NaN</td>\n",
       "    </tr>\n",
       "    <tr>\n",
       "      <th>4</th>\n",
       "      <td>cap@avenge.com</td>\n",
       "      <td>Steve</td>\n",
       "      <td>Rogers</td>\n",
       "      <td>NaN</td>\n",
       "    </tr>\n",
       "  </tbody>\n",
       "</table>\n",
       "</div>"
      ],
      "text/plain": [
       "                          EMAIL        first    last          Full_name\n",
       "0  dhrubajyotipatra16@gmail.com  Dhrubajyoti   Patra  Dhrubajyoti Patra\n",
       "1         shivampatel@gmail.com       Shivam   Patel       Shivam Patel\n",
       "2           aniketdas@gmail.com       Aniket   Ghosh       Aniket Ghosh\n",
       "3            ironman@avenge.com         Tony   Stark                NaN\n",
       "4                cap@avenge.com        Steve  Rogers                NaN"
      ]
     },
     "execution_count": 72,
     "metadata": {},
     "output_type": "execute_result"
    }
   ],
   "source": [
    "df_dict.sort_index()"
   ]
  },
  {
   "cell_type": "code",
   "execution_count": null,
   "id": "e96cced8",
   "metadata": {},
   "outputs": [],
   "source": []
  }
 ],
 "metadata": {
  "kernelspec": {
   "display_name": "Python 3 (ipykernel)",
   "language": "python",
   "name": "python3"
  },
  "language_info": {
   "codemirror_mode": {
    "name": "ipython",
    "version": 3
   },
   "file_extension": ".py",
   "mimetype": "text/x-python",
   "name": "python",
   "nbconvert_exporter": "python",
   "pygments_lexer": "ipython3",
   "version": "3.9.7"
  }
 },
 "nbformat": 4,
 "nbformat_minor": 5
}
